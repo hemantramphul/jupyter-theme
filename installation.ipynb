{
 "cells": [
  {
   "cell_type": "markdown",
   "id": "d1110090",
   "metadata": {},
   "source": [
    "#### Get the current working directory"
   ]
  },
  {
   "cell_type": "code",
   "execution_count": null,
   "id": "cff7bccd",
   "metadata": {},
   "outputs": [],
   "source": [
    "import os\n",
    "os.getcwd()"
   ]
  },
  {
   "cell_type": "markdown",
   "id": "63918d8f",
   "metadata": {},
   "source": [
    "#### Install the `jupyterthemes` package"
   ]
  },
  {
   "cell_type": "code",
   "execution_count": null,
   "id": "00fc479d",
   "metadata": {},
   "outputs": [],
   "source": [
    "!pip install jupyterthemes"
   ]
  },
  {
   "cell_type": "markdown",
   "id": "aedf2477",
   "metadata": {},
   "source": [
    "#### Enable a Dark Theme"
   ]
  },
  {
   "cell_type": "code",
   "execution_count": null,
   "id": "bceae480",
   "metadata": {},
   "outputs": [],
   "source": [
    "!jt -t monokai"
   ]
  },
  {
   "cell_type": "markdown",
   "id": "6dbc5f85",
   "metadata": {},
   "source": [
    "#### Resetting to Default Theme"
   ]
  },
  {
   "cell_type": "code",
   "execution_count": null,
   "id": "37ab2624",
   "metadata": {},
   "outputs": [],
   "source": [
    "jt -r"
   ]
  }
 ],
 "metadata": {
  "kernelspec": {
   "display_name": "Python 3 (ipykernel)",
   "language": "python",
   "name": "python3"
  },
  "language_info": {
   "codemirror_mode": {
    "name": "ipython",
    "version": 3
   },
   "file_extension": ".py",
   "mimetype": "text/x-python",
   "name": "python",
   "nbconvert_exporter": "python",
   "pygments_lexer": "ipython3",
   "version": "3.9.7"
  }
 },
 "nbformat": 4,
 "nbformat_minor": 5
}
